{
 "cells": [
  {
   "cell_type": "code",
   "execution_count": 0,
   "metadata": {
    "colab": {},
    "colab_type": "code",
    "id": "0OEgxEFPxBZP"
   },
   "outputs": [],
   "source": [
    "#Installing packages needed for the solution\n",
    "!pip install pandas numpy scipy matplotlib sklearn seaborn geopy catboost "
   ]
  },
  {
   "cell_type": "code",
   "execution_count": 0,
   "metadata": {
    "colab": {},
    "colab_type": "code",
    "id": "Kg-grbWkyJPs"
   },
   "outputs": [],
   "source": [
    "#this is needed as I am running this as a colab on drive\n",
    "!pip install pyocclient"
   ]
  },
  {
   "cell_type": "code",
   "execution_count": 0,
   "metadata": {
    "colab": {},
    "colab_type": "code",
    "id": "N0OlCsIAwMXJ"
   },
   "outputs": [],
   "source": [
    "import pandas as pd\n",
    "import numpy as np\n",
    "\n",
    "from sklearn import tree\n",
    "from sklearn.tree import DecisionTreeClassifier, export_graphviz\n",
    "from catboost import CatBoostClassifier\n",
    "\n",
    "from matplotlib import pyplot as plt\n",
    "import seaborn as sns\n",
    "\n",
    "from scipy import misc\n",
    "from geopy import distance\n",
    "\n",
    "#for importing google drive as a file source\n",
    "#from google.colab import drive\n",
    "\n",
    "%matplotlib inline"
   ]
  },
  {
   "cell_type": "code",
   "execution_count": 0,
   "metadata": {
    "colab": {},
    "colab_type": "code",
    "id": "tJDYPkZOyVuA"
   },
   "outputs": [],
   "source": [
    "drive.mount(\"/content/drive\")"
   ]
  },
  {
   "cell_type": "code",
   "execution_count": 0,
   "metadata": {
    "colab": {},
    "colab_type": "code",
    "id": "CKEeCXtgwMXR"
   },
   "outputs": [],
   "source": [
    "path = \"/content/drive/My Drive/Colab Notebooks/ml_challenge/\"\n",
    "training_data = pd.read_csv(path+\"train.csv\")\n",
    "testing_data = pd.read_csv(path+\"test.csv\")"
   ]
  },
  {
   "cell_type": "code",
   "execution_count": 6,
   "metadata": {
    "colab": {
     "base_uri": "https://localhost:8080/",
     "height": 609
    },
    "colab_type": "code",
    "executionInfo": {
     "elapsed": 54032,
     "status": "ok",
     "timestamp": 1591018187924,
     "user": {
      "displayName": "Tharindu Weerasinghe",
      "photoUrl": "",
      "userId": "18080768249403822947"
     },
     "user_tz": -330
    },
    "id": "7ANImEM7wMXW",
    "outputId": "a821706b-7a64-4c3f-989e-23f6c5afe0d6"
   },
   "outputs": [
    {
     "data": {
      "text/html": [
       "<div>\n",
       "<style scoped>\n",
       "    .dataframe tbody tr th:only-of-type {\n",
       "        vertical-align: middle;\n",
       "    }\n",
       "\n",
       "    .dataframe tbody tr th {\n",
       "        vertical-align: top;\n",
       "    }\n",
       "\n",
       "    .dataframe thead th {\n",
       "        text-align: right;\n",
       "    }\n",
       "</style>\n",
       "<table border=\"1\" class=\"dataframe\">\n",
       "  <thead>\n",
       "    <tr style=\"text-align: right;\">\n",
       "      <th></th>\n",
       "      <th>tripid</th>\n",
       "      <th>additional_fare</th>\n",
       "      <th>duration</th>\n",
       "      <th>meter_waiting</th>\n",
       "      <th>meter_waiting_fare</th>\n",
       "      <th>meter_waiting_till_pickup</th>\n",
       "      <th>pickup_time</th>\n",
       "      <th>drop_time</th>\n",
       "      <th>pick_lat</th>\n",
       "      <th>pick_lon</th>\n",
       "      <th>drop_lat</th>\n",
       "      <th>drop_lon</th>\n",
       "      <th>fare</th>\n",
       "      <th>label</th>\n",
       "    </tr>\n",
       "  </thead>\n",
       "  <tbody>\n",
       "    <tr>\n",
       "      <th>0</th>\n",
       "      <td>189123628</td>\n",
       "      <td>10.5</td>\n",
       "      <td>834.0</td>\n",
       "      <td>56.0</td>\n",
       "      <td>0.0000</td>\n",
       "      <td>64.0</td>\n",
       "      <td>11/1/2019 0:20</td>\n",
       "      <td>11/1/2019 0:34</td>\n",
       "      <td>6.86252</td>\n",
       "      <td>79.8993</td>\n",
       "      <td>6.90330</td>\n",
       "      <td>79.8783</td>\n",
       "      <td>270.32</td>\n",
       "      <td>correct</td>\n",
       "    </tr>\n",
       "    <tr>\n",
       "      <th>1</th>\n",
       "      <td>189125358</td>\n",
       "      <td>10.5</td>\n",
       "      <td>791.0</td>\n",
       "      <td>47.0</td>\n",
       "      <td>0.0000</td>\n",
       "      <td>134.0</td>\n",
       "      <td>11/1/2019 0:56</td>\n",
       "      <td>11/1/2019 1:09</td>\n",
       "      <td>6.88589</td>\n",
       "      <td>79.8984</td>\n",
       "      <td>6.91373</td>\n",
       "      <td>79.8923</td>\n",
       "      <td>197.85</td>\n",
       "      <td>correct</td>\n",
       "    </tr>\n",
       "    <tr>\n",
       "      <th>2</th>\n",
       "      <td>189125719</td>\n",
       "      <td>10.5</td>\n",
       "      <td>1087.0</td>\n",
       "      <td>80.0</td>\n",
       "      <td>0.0000</td>\n",
       "      <td>61.0</td>\n",
       "      <td>11/1/2019 1:08</td>\n",
       "      <td>11/1/2019 1:26</td>\n",
       "      <td>6.90839</td>\n",
       "      <td>79.8651</td>\n",
       "      <td>6.93669</td>\n",
       "      <td>79.9146</td>\n",
       "      <td>301.64</td>\n",
       "      <td>correct</td>\n",
       "    </tr>\n",
       "    <tr>\n",
       "      <th>3</th>\n",
       "      <td>189127273</td>\n",
       "      <td>10.5</td>\n",
       "      <td>598.0</td>\n",
       "      <td>271.0</td>\n",
       "      <td>15.6638</td>\n",
       "      <td>68.0</td>\n",
       "      <td>11/1/2019 2:27</td>\n",
       "      <td>11/1/2019 2:37</td>\n",
       "      <td>6.92570</td>\n",
       "      <td>79.8895</td>\n",
       "      <td>6.92748</td>\n",
       "      <td>79.8971</td>\n",
       "      <td>82.30</td>\n",
       "      <td>correct</td>\n",
       "    </tr>\n",
       "    <tr>\n",
       "      <th>4</th>\n",
       "      <td>189128020</td>\n",
       "      <td>NaN</td>\n",
       "      <td>NaN</td>\n",
       "      <td>NaN</td>\n",
       "      <td>NaN</td>\n",
       "      <td>NaN</td>\n",
       "      <td>11/1/2019 3:34</td>\n",
       "      <td>11/1/2019 3:51</td>\n",
       "      <td>6.87441</td>\n",
       "      <td>79.8615</td>\n",
       "      <td>6.84478</td>\n",
       "      <td>79.9290</td>\n",
       "      <td>358.39</td>\n",
       "      <td>correct</td>\n",
       "    </tr>\n",
       "    <tr>\n",
       "      <th>...</th>\n",
       "      <td>...</td>\n",
       "      <td>...</td>\n",
       "      <td>...</td>\n",
       "      <td>...</td>\n",
       "      <td>...</td>\n",
       "      <td>...</td>\n",
       "      <td>...</td>\n",
       "      <td>...</td>\n",
       "      <td>...</td>\n",
       "      <td>...</td>\n",
       "      <td>...</td>\n",
       "      <td>...</td>\n",
       "      <td>...</td>\n",
       "      <td>...</td>\n",
       "    </tr>\n",
       "    <tr>\n",
       "      <th>17171</th>\n",
       "      <td>213803193</td>\n",
       "      <td>10.5</td>\n",
       "      <td>838.0</td>\n",
       "      <td>93.0</td>\n",
       "      <td>5.4219</td>\n",
       "      <td>451.0</td>\n",
       "      <td>1/31/2020 22:07</td>\n",
       "      <td>1/31/2020 22:21</td>\n",
       "      <td>7.29073</td>\n",
       "      <td>80.6367</td>\n",
       "      <td>7.28891</td>\n",
       "      <td>80.6557</td>\n",
       "      <td>198.26</td>\n",
       "      <td>correct</td>\n",
       "    </tr>\n",
       "    <tr>\n",
       "      <th>17172</th>\n",
       "      <td>213812756</td>\n",
       "      <td>10.5</td>\n",
       "      <td>2151.0</td>\n",
       "      <td>428.0</td>\n",
       "      <td>0.0000</td>\n",
       "      <td>39.0</td>\n",
       "      <td>1/31/2020 23:07</td>\n",
       "      <td>1/31/2020 23:43</td>\n",
       "      <td>6.90569</td>\n",
       "      <td>79.8516</td>\n",
       "      <td>6.95089</td>\n",
       "      <td>79.9389</td>\n",
       "      <td>581.23</td>\n",
       "      <td>correct</td>\n",
       "    </tr>\n",
       "    <tr>\n",
       "      <th>17173</th>\n",
       "      <td>213813930</td>\n",
       "      <td>10.5</td>\n",
       "      <td>263.0</td>\n",
       "      <td>9.0</td>\n",
       "      <td>0.0000</td>\n",
       "      <td>110.0</td>\n",
       "      <td>1/31/2020 23:21</td>\n",
       "      <td>1/31/2020 23:25</td>\n",
       "      <td>7.09210</td>\n",
       "      <td>79.9000</td>\n",
       "      <td>7.10135</td>\n",
       "      <td>79.9017</td>\n",
       "      <td>76.20</td>\n",
       "      <td>correct</td>\n",
       "    </tr>\n",
       "    <tr>\n",
       "      <th>17174</th>\n",
       "      <td>213815405</td>\n",
       "      <td>10.5</td>\n",
       "      <td>858.0</td>\n",
       "      <td>115.0</td>\n",
       "      <td>0.0000</td>\n",
       "      <td>317.0</td>\n",
       "      <td>1/31/2020 23:39</td>\n",
       "      <td>1/31/2020 23:53</td>\n",
       "      <td>6.94540</td>\n",
       "      <td>79.8768</td>\n",
       "      <td>6.93574</td>\n",
       "      <td>79.9010</td>\n",
       "      <td>133.31</td>\n",
       "      <td>correct</td>\n",
       "    </tr>\n",
       "    <tr>\n",
       "      <th>17175</th>\n",
       "      <td>213817296</td>\n",
       "      <td>10.5</td>\n",
       "      <td>262.0</td>\n",
       "      <td>21.0</td>\n",
       "      <td>1.2243</td>\n",
       "      <td>23.0</td>\n",
       "      <td>1/31/2020 23:49</td>\n",
       "      <td>1/31/2020 23:53</td>\n",
       "      <td>6.90257</td>\n",
       "      <td>79.9557</td>\n",
       "      <td>6.90823</td>\n",
       "      <td>79.9374</td>\n",
       "      <td>98.57</td>\n",
       "      <td>correct</td>\n",
       "    </tr>\n",
       "  </tbody>\n",
       "</table>\n",
       "<p>17176 rows × 14 columns</p>\n",
       "</div>"
      ],
      "text/plain": [
       "          tripid  additional_fare  duration  ...  drop_lon    fare    label\n",
       "0      189123628             10.5     834.0  ...   79.8783  270.32  correct\n",
       "1      189125358             10.5     791.0  ...   79.8923  197.85  correct\n",
       "2      189125719             10.5    1087.0  ...   79.9146  301.64  correct\n",
       "3      189127273             10.5     598.0  ...   79.8971   82.30  correct\n",
       "4      189128020              NaN       NaN  ...   79.9290  358.39  correct\n",
       "...          ...              ...       ...  ...       ...     ...      ...\n",
       "17171  213803193             10.5     838.0  ...   80.6557  198.26  correct\n",
       "17172  213812756             10.5    2151.0  ...   79.9389  581.23  correct\n",
       "17173  213813930             10.5     263.0  ...   79.9017   76.20  correct\n",
       "17174  213815405             10.5     858.0  ...   79.9010  133.31  correct\n",
       "17175  213817296             10.5     262.0  ...   79.9374   98.57  correct\n",
       "\n",
       "[17176 rows x 14 columns]"
      ]
     },
     "execution_count": 6,
     "metadata": {
      "tags": []
     },
     "output_type": "execute_result"
    }
   ],
   "source": [
    "training_data"
   ]
  },
  {
   "cell_type": "code",
   "execution_count": 7,
   "metadata": {
    "colab": {
     "base_uri": "https://localhost:8080/",
     "height": 272
    },
    "colab_type": "code",
    "executionInfo": {
     "elapsed": 53995,
     "status": "ok",
     "timestamp": 1591018187926,
     "user": {
      "displayName": "Tharindu Weerasinghe",
      "photoUrl": "",
      "userId": "18080768249403822947"
     },
     "user_tz": -330
    },
    "id": "vFCTzfOfwMXb",
    "outputId": "9a98bd4e-21e5-445a-81c6-8075bd9ca30b"
   },
   "outputs": [
    {
     "data": {
      "text/plain": [
       "meter_waiting_till_pickup    202\n",
       "meter_waiting_fare           202\n",
       "meter_waiting                202\n",
       "duration                     202\n",
       "additional_fare              202\n",
       "fare                         137\n",
       "label                          0\n",
       "drop_lon                       0\n",
       "drop_lat                       0\n",
       "pick_lon                       0\n",
       "pick_lat                       0\n",
       "drop_time                      0\n",
       "pickup_time                    0\n",
       "tripid                         0\n",
       "dtype: int64"
      ]
     },
     "execution_count": 7,
     "metadata": {
      "tags": []
     },
     "output_type": "execute_result"
    }
   ],
   "source": [
    "#checking the number of NaN in the data\n",
    "training_data.isnull().sum().sort_values(ascending = False)"
   ]
  },
  {
   "cell_type": "code",
   "execution_count": 0,
   "metadata": {
    "colab": {},
    "colab_type": "code",
    "id": "kLov0knSzjaD"
   },
   "outputs": [],
   "source": [
    "tr = training_data.fillna(training_data.median())\n",
    "tr2 = training_data.fillna(training_data.median())"
   ]
  },
  {
   "cell_type": "code",
   "execution_count": 0,
   "metadata": {
    "colab": {},
    "colab_type": "code",
    "id": "cHNxrZo8wMXe"
   },
   "outputs": [],
   "source": [
    "#drop the NaN values\n",
    "# tr_cleaned = training_data.dropna()\n",
    "# tr = tr_cleaned.reset_index(drop=True)"
   ]
  },
  {
   "cell_type": "code",
   "execution_count": 10,
   "metadata": {
    "colab": {
     "base_uri": "https://localhost:8080/",
     "height": 309
    },
    "colab_type": "code",
    "executionInfo": {
     "elapsed": 53954,
     "status": "ok",
     "timestamp": 1591018187929,
     "user": {
      "displayName": "Tharindu Weerasinghe",
      "photoUrl": "",
      "userId": "18080768249403822947"
     },
     "user_tz": -330
    },
    "id": "CieXbf86wMXj",
    "outputId": "9c4898e4-9920-45eb-fce3-895a6ff75f2e"
   },
   "outputs": [
    {
     "data": {
      "text/html": [
       "<div>\n",
       "<style scoped>\n",
       "    .dataframe tbody tr th:only-of-type {\n",
       "        vertical-align: middle;\n",
       "    }\n",
       "\n",
       "    .dataframe tbody tr th {\n",
       "        vertical-align: top;\n",
       "    }\n",
       "\n",
       "    .dataframe thead th {\n",
       "        text-align: right;\n",
       "    }\n",
       "</style>\n",
       "<table border=\"1\" class=\"dataframe\">\n",
       "  <thead>\n",
       "    <tr style=\"text-align: right;\">\n",
       "      <th></th>\n",
       "      <th>tripid</th>\n",
       "      <th>additional_fare</th>\n",
       "      <th>duration</th>\n",
       "      <th>meter_waiting</th>\n",
       "      <th>meter_waiting_fare</th>\n",
       "      <th>meter_waiting_till_pickup</th>\n",
       "      <th>pickup_time</th>\n",
       "      <th>drop_time</th>\n",
       "      <th>pick_lat</th>\n",
       "      <th>pick_lon</th>\n",
       "      <th>drop_lat</th>\n",
       "      <th>drop_lon</th>\n",
       "      <th>fare</th>\n",
       "      <th>label</th>\n",
       "    </tr>\n",
       "  </thead>\n",
       "  <tbody>\n",
       "    <tr>\n",
       "      <th>17171</th>\n",
       "      <td>213803193</td>\n",
       "      <td>10.5</td>\n",
       "      <td>838.0</td>\n",
       "      <td>93.0</td>\n",
       "      <td>5.4219</td>\n",
       "      <td>451.0</td>\n",
       "      <td>1/31/2020 22:07</td>\n",
       "      <td>1/31/2020 22:21</td>\n",
       "      <td>7.29073</td>\n",
       "      <td>80.6367</td>\n",
       "      <td>7.28891</td>\n",
       "      <td>80.6557</td>\n",
       "      <td>198.26</td>\n",
       "      <td>correct</td>\n",
       "    </tr>\n",
       "    <tr>\n",
       "      <th>17172</th>\n",
       "      <td>213812756</td>\n",
       "      <td>10.5</td>\n",
       "      <td>2151.0</td>\n",
       "      <td>428.0</td>\n",
       "      <td>0.0000</td>\n",
       "      <td>39.0</td>\n",
       "      <td>1/31/2020 23:07</td>\n",
       "      <td>1/31/2020 23:43</td>\n",
       "      <td>6.90569</td>\n",
       "      <td>79.8516</td>\n",
       "      <td>6.95089</td>\n",
       "      <td>79.9389</td>\n",
       "      <td>581.23</td>\n",
       "      <td>correct</td>\n",
       "    </tr>\n",
       "    <tr>\n",
       "      <th>17173</th>\n",
       "      <td>213813930</td>\n",
       "      <td>10.5</td>\n",
       "      <td>263.0</td>\n",
       "      <td>9.0</td>\n",
       "      <td>0.0000</td>\n",
       "      <td>110.0</td>\n",
       "      <td>1/31/2020 23:21</td>\n",
       "      <td>1/31/2020 23:25</td>\n",
       "      <td>7.09210</td>\n",
       "      <td>79.9000</td>\n",
       "      <td>7.10135</td>\n",
       "      <td>79.9017</td>\n",
       "      <td>76.20</td>\n",
       "      <td>correct</td>\n",
       "    </tr>\n",
       "    <tr>\n",
       "      <th>17174</th>\n",
       "      <td>213815405</td>\n",
       "      <td>10.5</td>\n",
       "      <td>858.0</td>\n",
       "      <td>115.0</td>\n",
       "      <td>0.0000</td>\n",
       "      <td>317.0</td>\n",
       "      <td>1/31/2020 23:39</td>\n",
       "      <td>1/31/2020 23:53</td>\n",
       "      <td>6.94540</td>\n",
       "      <td>79.8768</td>\n",
       "      <td>6.93574</td>\n",
       "      <td>79.9010</td>\n",
       "      <td>133.31</td>\n",
       "      <td>correct</td>\n",
       "    </tr>\n",
       "    <tr>\n",
       "      <th>17175</th>\n",
       "      <td>213817296</td>\n",
       "      <td>10.5</td>\n",
       "      <td>262.0</td>\n",
       "      <td>21.0</td>\n",
       "      <td>1.2243</td>\n",
       "      <td>23.0</td>\n",
       "      <td>1/31/2020 23:49</td>\n",
       "      <td>1/31/2020 23:53</td>\n",
       "      <td>6.90257</td>\n",
       "      <td>79.9557</td>\n",
       "      <td>6.90823</td>\n",
       "      <td>79.9374</td>\n",
       "      <td>98.57</td>\n",
       "      <td>correct</td>\n",
       "    </tr>\n",
       "  </tbody>\n",
       "</table>\n",
       "</div>"
      ],
      "text/plain": [
       "          tripid  additional_fare  duration  ...  drop_lon    fare    label\n",
       "17171  213803193             10.5     838.0  ...   80.6557  198.26  correct\n",
       "17172  213812756             10.5    2151.0  ...   79.9389  581.23  correct\n",
       "17173  213813930             10.5     263.0  ...   79.9017   76.20  correct\n",
       "17174  213815405             10.5     858.0  ...   79.9010  133.31  correct\n",
       "17175  213817296             10.5     262.0  ...   79.9374   98.57  correct\n",
       "\n",
       "[5 rows x 14 columns]"
      ]
     },
     "execution_count": 10,
     "metadata": {
      "tags": []
     },
     "output_type": "execute_result"
    }
   ],
   "source": [
    "tr.tail()"
   ]
  },
  {
   "cell_type": "code",
   "execution_count": 0,
   "metadata": {
    "colab": {},
    "colab_type": "code",
    "id": "VSZ1qsT-wMXo"
   },
   "outputs": [],
   "source": [
    "#convert the label to binary\n",
    "tr.label.replace(('correct','incorrect'),(1,0),inplace=True)"
   ]
  },
  {
   "cell_type": "code",
   "execution_count": 0,
   "metadata": {
    "colab": {},
    "colab_type": "code",
    "id": "BtrE0sngwMXv"
   },
   "outputs": [],
   "source": [
    "#drop pickup time and drop time as I don't know how to incorporate them\n",
    "tr = tr.drop(['pickup_time','drop_time'], axis=1)"
   ]
  },
  {
   "cell_type": "code",
   "execution_count": 13,
   "metadata": {
    "colab": {
     "base_uri": "https://localhost:8080/",
     "height": 80
    },
    "colab_type": "code",
    "executionInfo": {
     "elapsed": 53913,
     "status": "ok",
     "timestamp": 1591018187935,
     "user": {
      "displayName": "Tharindu Weerasinghe",
      "photoUrl": "",
      "userId": "18080768249403822947"
     },
     "user_tz": -330
    },
    "id": "7vwR6UjZ1lH-",
    "outputId": "d7f0419a-e215-483b-de2f-961b82515493"
   },
   "outputs": [
    {
     "data": {
      "text/html": [
       "<div>\n",
       "<style scoped>\n",
       "    .dataframe tbody tr th:only-of-type {\n",
       "        vertical-align: middle;\n",
       "    }\n",
       "\n",
       "    .dataframe tbody tr th {\n",
       "        vertical-align: top;\n",
       "    }\n",
       "\n",
       "    .dataframe thead th {\n",
       "        text-align: right;\n",
       "    }\n",
       "</style>\n",
       "<table border=\"1\" class=\"dataframe\">\n",
       "  <thead>\n",
       "    <tr style=\"text-align: right;\">\n",
       "      <th></th>\n",
       "      <th>tripid</th>\n",
       "      <th>additional_fare</th>\n",
       "      <th>duration</th>\n",
       "      <th>meter_waiting</th>\n",
       "      <th>meter_waiting_fare</th>\n",
       "      <th>meter_waiting_till_pickup</th>\n",
       "      <th>pick_lat</th>\n",
       "      <th>pick_lon</th>\n",
       "      <th>drop_lat</th>\n",
       "      <th>drop_lon</th>\n",
       "      <th>fare</th>\n",
       "      <th>label</th>\n",
       "    </tr>\n",
       "  </thead>\n",
       "  <tbody>\n",
       "    <tr>\n",
       "      <th>920</th>\n",
       "      <td>190167541</td>\n",
       "      <td>10.5</td>\n",
       "      <td>313.0</td>\n",
       "      <td>50.0</td>\n",
       "      <td>2.915</td>\n",
       "      <td>98.0</td>\n",
       "      <td>7.46897</td>\n",
       "      <td>80.6227</td>\n",
       "      <td>48.132</td>\n",
       "      <td>45.3077</td>\n",
       "      <td>63.41</td>\n",
       "      <td>1</td>\n",
       "    </tr>\n",
       "  </tbody>\n",
       "</table>\n",
       "</div>"
      ],
      "text/plain": [
       "        tripid  additional_fare  duration  ...  drop_lon   fare  label\n",
       "920  190167541             10.5     313.0  ...   45.3077  63.41      1\n",
       "\n",
       "[1 rows x 12 columns]"
      ]
     },
     "execution_count": 13,
     "metadata": {
      "tags": []
     },
     "output_type": "execute_result"
    }
   ],
   "source": [
    "tr[tr['drop_lat']>10]"
   ]
  },
  {
   "cell_type": "code",
   "execution_count": 0,
   "metadata": {
    "colab": {},
    "colab_type": "code",
    "id": "OL25oTRG21OZ"
   },
   "outputs": [],
   "source": [
    "tr2 = tr2.drop(tr2.index[[920]])\n",
    "tr2 = tr2.reset_index(drop=True)"
   ]
  },
  {
   "cell_type": "code",
   "execution_count": 0,
   "metadata": {
    "colab": {},
    "colab_type": "code",
    "id": "ZGB7BSBlwMXy"
   },
   "outputs": [],
   "source": [
    "tr = tr.drop(tr.index[[920]])"
   ]
  },
  {
   "cell_type": "code",
   "execution_count": 0,
   "metadata": {
    "colab": {},
    "colab_type": "code",
    "id": "wipfu_ljwMX1"
   },
   "outputs": [],
   "source": [
    "tr = tr.reset_index(drop=True)"
   ]
  },
  {
   "cell_type": "code",
   "execution_count": 17,
   "metadata": {
    "colab": {
     "base_uri": "https://localhost:8080/",
     "height": 340
    },
    "colab_type": "code",
    "executionInfo": {
     "elapsed": 53865,
     "status": "ok",
     "timestamp": 1591018187940,
     "user": {
      "displayName": "Tharindu Weerasinghe",
      "photoUrl": "",
      "userId": "18080768249403822947"
     },
     "user_tz": -330
    },
    "id": "GHqyYHMcwMX5",
    "outputId": "9862fe38-265e-4e5a-daa2-37d7c82158b7"
   },
   "outputs": [
    {
     "name": "stdout",
     "output_type": "stream",
     "text": [
      "<class 'pandas.core.frame.DataFrame'>\n",
      "RangeIndex: 17175 entries, 0 to 17174\n",
      "Data columns (total 12 columns):\n",
      " #   Column                     Non-Null Count  Dtype  \n",
      "---  ------                     --------------  -----  \n",
      " 0   tripid                     17175 non-null  int64  \n",
      " 1   additional_fare            17175 non-null  float64\n",
      " 2   duration                   17175 non-null  float64\n",
      " 3   meter_waiting              17175 non-null  float64\n",
      " 4   meter_waiting_fare         17175 non-null  float64\n",
      " 5   meter_waiting_till_pickup  17175 non-null  float64\n",
      " 6   pick_lat                   17175 non-null  float64\n",
      " 7   pick_lon                   17175 non-null  float64\n",
      " 8   drop_lat                   17175 non-null  float64\n",
      " 9   drop_lon                   17175 non-null  float64\n",
      " 10  fare                       17175 non-null  float64\n",
      " 11  label                      17175 non-null  int64  \n",
      "dtypes: float64(10), int64(2)\n",
      "memory usage: 1.6 MB\n"
     ]
    }
   ],
   "source": [
    "tr.info()"
   ]
  },
  {
   "cell_type": "markdown",
   "metadata": {
    "colab_type": "text",
    "id": "oIjJNBTswMX9"
   },
   "source": [
    "## Some Visualization"
   ]
  },
  {
   "cell_type": "code",
   "execution_count": 0,
   "metadata": {
    "colab": {},
    "colab_type": "code",
    "id": "GWNcXYELwMX9"
   },
   "outputs": [],
   "source": [
    "#set a custom palatte for seaborn\n",
    "sns.set_palette(sns.color_palette(['#19B5FE','#EF4836']))\n",
    "sns.set_style(\"white\")"
   ]
  },
  {
   "cell_type": "code",
   "execution_count": 0,
   "metadata": {
    "colab": {},
    "colab_type": "code",
    "id": "vvaDjr0FwMYA"
   },
   "outputs": [],
   "source": [
    "#create data series\n",
    "c_fare = tr[tr['label']==1]['fare']\n",
    "i_fare = tr[tr['label']==0]['fare']\n",
    "\n",
    "c_ad_fare = tr[tr['label']==1]['additional_fare']\n",
    "i_ad_fare = tr[tr['label']==0]['additional_fare']\n",
    "\n",
    "c_dur = tr[tr['label']==1]['duration']\n",
    "i_dur = tr[tr['label']==0]['duration']\n",
    "\n",
    "c_mw = tr[tr['label']==1]['meter_waiting']\n",
    "i_mw = tr[tr['label']==0]['meter_waiting']\n",
    "\n",
    "c_mwf = tr[tr['label']==1]['meter_waiting_fare']\n",
    "i_mwf = tr[tr['label']==0]['meter_waiting_fare']\n",
    "\n",
    "c_mwp = tr[tr['label']==1]['meter_waiting_till_pickup']\n",
    "i_mwp = tr[tr['label']==0]['meter_waiting_till_pickup']\n",
    "\n",
    "c_plat = tr[tr['label']==1]['pick_lat']\n",
    "i_plat = tr[tr['label']==0]['pick_lat']\n",
    "\n",
    "c_plon = tr[tr['label']==1]['pick_lon']\n",
    "i_plon = tr[tr['label']==0]['pick_lon']\n",
    "\n",
    "c_dlat = tr[tr['label']==1]['drop_lat']\n",
    "i_dlat = tr[tr['label']==0]['drop_lat']\n",
    "\n",
    "c_dlon = tr[tr['label']==1]['drop_lon']\n",
    "i_dlon = tr[tr['label']==0]['drop_lon']"
   ]
  },
  {
   "cell_type": "code",
   "execution_count": 20,
   "metadata": {
    "colab": {
     "base_uri": "https://localhost:8080/",
     "height": 170
    },
    "colab_type": "code",
    "executionInfo": {
     "elapsed": 53831,
     "status": "ok",
     "timestamp": 1591018187943,
     "user": {
      "displayName": "Tharindu Weerasinghe",
      "photoUrl": "",
      "userId": "18080768249403822947"
     },
     "user_tz": -330
    },
    "id": "rFf5-0EvwMYD",
    "outputId": "aa1544f8-0507-48a4-ea16-9bd9bb38b912"
   },
   "outputs": [
    {
     "data": {
      "text/plain": [
       "count    15494.000000\n",
       "mean         6.964337\n",
       "std          0.211357\n",
       "min          5.941860\n",
       "25%          6.865502\n",
       "50%          6.915335\n",
       "75%          7.043095\n",
       "max          8.064930\n",
       "Name: drop_lat, dtype: float64"
      ]
     },
     "execution_count": 20,
     "metadata": {
      "tags": []
     },
     "output_type": "execute_result"
    }
   ],
   "source": [
    "c_dlat.describe()"
   ]
  },
  {
   "cell_type": "code",
   "execution_count": 21,
   "metadata": {
    "colab": {
     "base_uri": "https://localhost:8080/",
     "height": 34
    },
    "colab_type": "code",
    "executionInfo": {
     "elapsed": 53815,
     "status": "ok",
     "timestamp": 1591018187943,
     "user": {
      "displayName": "Tharindu Weerasinghe",
      "photoUrl": "",
      "userId": "18080768249403822947"
     },
     "user_tz": -330
    },
    "id": "PZpVkOQSwMYG",
    "outputId": "a26b9030-8213-4d00-9dc4-d951dcda1c00"
   },
   "outputs": [
    {
     "data": {
      "text/plain": [
       "Series([], Name: drop_lat, dtype: float64)"
      ]
     },
     "execution_count": 21,
     "metadata": {
      "tags": []
     },
     "output_type": "execute_result"
    }
   ],
   "source": [
    "c_dlat[c_dlat > 9]"
   ]
  },
  {
   "cell_type": "code",
   "execution_count": 22,
   "metadata": {
    "colab": {
     "base_uri": "https://localhost:8080/",
     "height": 516
    },
    "colab_type": "code",
    "executionInfo": {
     "elapsed": 68589,
     "status": "ok",
     "timestamp": 1591018202734,
     "user": {
      "displayName": "Tharindu Weerasinghe",
      "photoUrl": "",
      "userId": "18080768249403822947"
     },
     "user_tz": -330
    },
    "id": "lyfrfA76wMYL",
    "outputId": "10245ca8-da67-4e82-9073-af0cb996de30"
   },
   "outputs": [
    {
     "data": {
      "text/plain": [
       "(0.0, 5000.0)"
      ]
     },
     "execution_count": 22,
     "metadata": {
      "tags": []
     },
     "output_type": "execute_result"
    },
    {
     "data": {
      "image/png": "[encoded data removed]",
      "text/plain": [
       "<Figure size 864x576 with 1 Axes>"
      ]
     },
     "metadata": {
      "tags": []
     },
     "output_type": "display_data"
    }
   ],
   "source": [
    "fig = plt.figure(figsize=(12,8))\n",
    "plt.title(\"Duration Correct/Incorrect Distribution\")\n",
    "c_dur.hist(alpha = 0.7, bins=5000, label='correct', edgecolor='none')\n",
    "i_dur.hist(alpha = 0.7, bins=5000, label='incorrect', edgecolor='none')\n",
    "plt.legend(loc='upper right')\n",
    "plt.xlim([0.0,5000.0])\n",
    "# plt.ylim([0.0,100.0])"
   ]
  },
  {
   "cell_type": "code",
   "execution_count": 23,
   "metadata": {
    "colab": {
     "base_uri": "https://localhost:8080/",
     "height": 1000
    },
    "colab_type": "code",
    "executionInfo": {
     "elapsed": 133854,
     "status": "ok",
     "timestamp": 1591018268027,
     "user": {
      "displayName": "Tharindu Weerasinghe",
      "photoUrl": "",
      "userId": "18080768249403822947"
     },
     "user_tz": -330
    },
    "id": "pZZLvFiiwMYO",
    "outputId": "356caf99-7cb5-4a95-c7e7-4569f9c984c3"
   },
   "outputs": [
    {
     "name": "stderr",
     "output_type": "stream",
     "text": [
      "/usr/local/lib/python3.6/dist-packages/ipykernel_launcher.py:12: MatplotlibDeprecationWarning: Adding an axes using the same arguments as a previous axes currently reuses the earlier instance.  In a future version, a new instance will always be created and returned.  Meanwhile, this warning can be suppressed, and the future behavior ensured, by passing a unique label to each axes instance.\n",
      "  if sys.path[0] == '':\n",
      "/usr/local/lib/python3.6/dist-packages/ipykernel_launcher.py:23: MatplotlibDeprecationWarning: Adding an axes using the same arguments as a previous axes currently reuses the earlier instance.  In a future version, a new instance will always be created and returned.  Meanwhile, this warning can be suppressed, and the future behavior ensured, by passing a unique label to each axes instance.\n",
      "/usr/local/lib/python3.6/dist-packages/ipykernel_launcher.py:34: MatplotlibDeprecationWarning: Adding an axes using the same arguments as a previous axes currently reuses the earlier instance.  In a future version, a new instance will always be created and returned.  Meanwhile, this warning can be suppressed, and the future behavior ensured, by passing a unique label to each axes instance.\n",
      "/usr/local/lib/python3.6/dist-packages/ipykernel_launcher.py:45: MatplotlibDeprecationWarning: Adding an axes using the same arguments as a previous axes currently reuses the earlier instance.  In a future version, a new instance will always be created and returned.  Meanwhile, this warning can be suppressed, and the future behavior ensured, by passing a unique label to each axes instance.\n",
      "/usr/local/lib/python3.6/dist-packages/ipykernel_launcher.py:67: MatplotlibDeprecationWarning: Adding an axes using the same arguments as a previous axes currently reuses the earlier instance.  In a future version, a new instance will always be created and returned.  Meanwhile, this warning can be suppressed, and the future behavior ensured, by passing a unique label to each axes instance.\n",
      "/usr/local/lib/python3.6/dist-packages/ipykernel_launcher.py:78: MatplotlibDeprecationWarning: Adding an axes using the same arguments as a previous axes currently reuses the earlier instance.  In a future version, a new instance will always be created and returned.  Meanwhile, this warning can be suppressed, and the future behavior ensured, by passing a unique label to each axes instance.\n",
      "/usr/local/lib/python3.6/dist-packages/ipykernel_launcher.py:89: MatplotlibDeprecationWarning: Adding an axes using the same arguments as a previous axes currently reuses the earlier instance.  In a future version, a new instance will always be created and returned.  Meanwhile, this warning can be suppressed, and the future behavior ensured, by passing a unique label to each axes instance.\n",
      "/usr/local/lib/python3.6/dist-packages/ipykernel_launcher.py:100: MatplotlibDeprecationWarning: Adding an axes using the same arguments as a previous axes currently reuses the earlier instance.  In a future version, a new instance will always be created and returned.  Meanwhile, this warning can be suppressed, and the future behavior ensured, by passing a unique label to each axes instance.\n",
      "/usr/local/lib/python3.6/dist-packages/ipykernel_launcher.py:111: MatplotlibDeprecationWarning: Adding an axes using the same arguments as a previous axes currently reuses the earlier instance.  In a future version, a new instance will always be created and returned.  Meanwhile, this warning can be suppressed, and the future behavior ensured, by passing a unique label to each axes instance.\n"
     ]
    },
    {
     "data": {
      "text/plain": [
       "<matplotlib.axes._subplots.AxesSubplot at 0x7f4ace83c390>"
      ]
     },
     "execution_count": 23,
     "metadata": {
      "tags": []
     },
     "output_type": "execute_result"
    },
    {
     "data": {
      "image/png": "[encoded data removed]",
      "text/plain": [
       "<Figure size 1080x1080 with 9 Axes>"
      ]
     },
     "metadata": {
      "tags": []
     },
     "output_type": "display_data"
    }
   ],
   "source": [
    "fig2 = plt.figure(figsize=(15,15))\n",
    "\n",
    "\n",
    "#Fare\n",
    "g11 = fig2.add_subplot(331)\n",
    "g11.set_xlabel('Fare')\n",
    "g11.set_ylabel('Count')\n",
    "g11.set_title('Fare Distribution')\n",
    "c_fare.hist(alpha=0.5, bins=500, label='correct',edgecolor='none')\n",
    "g11.set_xlim(0.0,1250.0)\n",
    "g11.set_ylim(0,800)\n",
    "g12 = fig2.add_subplot(331)\n",
    "i_fare.hist(alpha=0.5, bins=500, label='incorrect',edgecolor='none')\n",
    "\n",
    "#Additional Fare\n",
    "g21 = fig2.add_subplot(332)\n",
    "g21.set_xlabel('Additional Fare')\n",
    "g21.set_ylabel('Count')\n",
    "g21.set_title('Additional Fare Distribution')\n",
    "c_ad_fare.hist(alpha=0.5, bins=50, label='correct',edgecolor='none')\n",
    "g21.set_xlim(0.0,50.0)\n",
    "g21.set_ylim(0,2000)\n",
    "g22 = fig2.add_subplot(332)\n",
    "i_ad_fare.hist(alpha=0.5, label='incorrect', edgecolor='none')\n",
    "\n",
    "#Duration\n",
    "g31 = fig2.add_subplot(333)\n",
    "g31.set_xlabel('Duration')\n",
    "g31.set_ylabel('Count')\n",
    "g31.set_title('Duration Distribution')\n",
    "c_dur.hist(alpha=0.5, bins=5000, label='correct',edgecolor='none')\n",
    "g31.set_xlim(0.0,2500.0)\n",
    "# g11.set_ylim(0,800)\n",
    "g32 = fig2.add_subplot(333)\n",
    "i_dur.hist(alpha=0.5, bins=5000, label='incorrect',edgecolor='none')\n",
    "\n",
    "#Meter waiting\n",
    "g41 = fig2.add_subplot(334)\n",
    "g41.set_xlabel('Meter Waiting')\n",
    "g41.set_ylabel('Count')\n",
    "g41.set_title('Meter Waiting Distribution')\n",
    "c_mw.hist(alpha=0.5, bins=10000, label='correct',edgecolor='none')\n",
    "g41.set_xlim(0.0,800.0)\n",
    "g11.set_ylim(0,2100)\n",
    "g42 = fig2.add_subplot(334)\n",
    "i_mw.hist(alpha=0.5, bins=10000, label='incorrect',edgecolor='none')\n",
    "\n",
    "# #Meter waiting fare\n",
    "# g51 = fig2.add_subplot(335)\n",
    "# g51.set_xlabel('Meter Waiting Fare')\n",
    "# g51.set_ylabel('Count')\n",
    "# g51.set_title('Meter Waiting Fare Distribution')\n",
    "# c_mwf.hist(alpha=0.5, bins=4000, label='correct',edgecolor='none')\n",
    "# g51.set_xlim(0.0,100.0)\n",
    "# # g11.set_ylim(0,100)\n",
    "# g52 = fig2.add_subplot(335)\n",
    "# i_mwf.hist(alpha=0.5, bins=4000, label='incorrect',edgecolor='none')\n",
    "\n",
    "#Meter waiting till pickup\n",
    "g61 = fig2.add_subplot(335)\n",
    "g61.set_xlabel('Meter Waiting till Pickup')\n",
    "g61.set_ylabel('Count')\n",
    "g61.set_title('Meter Waiting till Pickup Distribution')\n",
    "c_mwp.hist(alpha=0.5, bins=5000, label='correct',edgecolor='none')\n",
    "g61.set_xlim(0.0,250.0)\n",
    "# g61.set_ylim(0,2100)\n",
    "g62 = fig2.add_subplot(335)\n",
    "i_mwp.hist(alpha=0.5, bins=5000, label='incorrect',edgecolor='none')\n",
    "\n",
    "#pickup lat\n",
    "g71 = fig2.add_subplot(336)\n",
    "g71.set_xlabel('Pickup Lat')\n",
    "g71.set_ylabel('Count')\n",
    "g71.set_title('Pickup Lat Distribution')\n",
    "c_plat.hist(alpha=0.5, label='correct', edgecolor='none')\n",
    "g71.set_xlim(5.9,9.0)\n",
    "# g71.set_ylim(0,2100)\n",
    "g72 = fig2.add_subplot(336)\n",
    "i_plat.hist(alpha=0.5, label='incorrect', edgecolor='none')\n",
    "\n",
    "#pickup long\n",
    "g81 = fig2.add_subplot(337)\n",
    "g81.set_xlabel('Pickup Long')\n",
    "g81.set_ylabel('Count')\n",
    "g81.set_title('Pickup Long Distribution')\n",
    "c_plon.hist(alpha=0.5, label='correct', edgecolor='none')\n",
    "g81.set_xlim(79.0,82.0)\n",
    "# g81.set_ylim(0,2100)\n",
    "g82 = fig2.add_subplot(337)\n",
    "i_plon.hist(alpha=0.5, label='incorrect', edgecolor='none')\n",
    "\n",
    "#drop off lat\n",
    "g91 = fig2.add_subplot(338)\n",
    "g91.set_xlabel('Drop off Lat')\n",
    "g91.set_ylabel('Count')\n",
    "g91.set_title('Drop off Lat Distribution')\n",
    "c_dlat.hist(alpha=0.5, label='correct', edgecolor='none')\n",
    "g91.set_xlim(5.9,9.0)\n",
    "# g91.set_ylim(0,2100)\n",
    "g92 = fig2.add_subplot(338)\n",
    "i_dlat.hist(alpha=0.5, label='incorrect', edgecolor='none')\n",
    "\n",
    "#drop off long\n",
    "g01 = fig2.add_subplot(339)\n",
    "g01.set_xlabel('Drop off Long')\n",
    "g01.set_ylabel('Count')\n",
    "g01.set_title('Drop off Long Distribution')\n",
    "c_dlon.hist(alpha=0.5, label='correct', edgecolor='none')\n",
    "g01.set_xlim(79.0,82.0)\n",
    "# g01.set_ylim(0,2100)\n",
    "g02 = fig2.add_subplot(339)\n",
    "i_dlon.hist(alpha=0.5, label='incorrect', edgecolor='none')"
   ]
  },
  {
   "cell_type": "code",
   "execution_count": 0,
   "metadata": {
    "colab": {},
    "colab_type": "code",
    "id": "MsD-IUj3wMYS"
   },
   "outputs": [],
   "source": [
    "clf = DecisionTreeClassifier(min_samples_split=100)"
   ]
  },
  {
   "cell_type": "code",
   "execution_count": 25,
   "metadata": {
    "colab": {
     "base_uri": "https://localhost:8080/",
     "height": 340
    },
    "colab_type": "code",
    "executionInfo": {
     "elapsed": 133833,
     "status": "ok",
     "timestamp": 1591018268030,
     "user": {
      "displayName": "Tharindu Weerasinghe",
      "photoUrl": "",
      "userId": "18080768249403822947"
     },
     "user_tz": -330
    },
    "id": "dvbAEqiJwMYU",
    "outputId": "22be303c-2d19-4e13-d10f-7adb1ee1a379"
   },
   "outputs": [
    {
     "name": "stdout",
     "output_type": "stream",
     "text": [
      "<class 'pandas.core.frame.DataFrame'>\n",
      "RangeIndex: 17175 entries, 0 to 17174\n",
      "Data columns (total 12 columns):\n",
      " #   Column                     Non-Null Count  Dtype  \n",
      "---  ------                     --------------  -----  \n",
      " 0   tripid                     17175 non-null  int64  \n",
      " 1   additional_fare            17175 non-null  float64\n",
      " 2   duration                   17175 non-null  float64\n",
      " 3   meter_waiting              17175 non-null  float64\n",
      " 4   meter_waiting_fare         17175 non-null  float64\n",
      " 5   meter_waiting_till_pickup  17175 non-null  float64\n",
      " 6   pick_lat                   17175 non-null  float64\n",
      " 7   pick_lon                   17175 non-null  float64\n",
      " 8   drop_lat                   17175 non-null  float64\n",
      " 9   drop_lon                   17175 non-null  float64\n",
      " 10  fare                       17175 non-null  float64\n",
      " 11  label                      17175 non-null  int64  \n",
      "dtypes: float64(10), int64(2)\n",
      "memory usage: 1.6 MB\n"
     ]
    }
   ],
   "source": [
    "tr.info()"
   ]
  },
  {
   "cell_type": "code",
   "execution_count": 0,
   "metadata": {
    "colab": {},
    "colab_type": "code",
    "id": "mIqKxVf0wMYZ"
   },
   "outputs": [],
   "source": [
    "features = ['fare', 'additional_fare', 'duration', 'meter_waiting', 'meter_waiting_fare', 'meter_waiting_till_pickup', 'pick_lat', 'pick_lon', 'drop_lat', 'drop_lon']"
   ]
  },
  {
   "cell_type": "code",
   "execution_count": 0,
   "metadata": {
    "colab": {},
    "colab_type": "code",
    "id": "88nUCwj0wMYc"
   },
   "outputs": [],
   "source": [
    "x_train = tr[features]\n",
    "y_train = tr['label']\n",
    "\n",
    "x_test = testing_data[features]"
   ]
  },
  {
   "cell_type": "code",
   "execution_count": 0,
   "metadata": {
    "colab": {},
    "colab_type": "code",
    "id": "r_LNj6C-wMYh"
   },
   "outputs": [],
   "source": [
    "dt = clf.fit(x_train, y_train)"
   ]
  },
  {
   "cell_type": "code",
   "execution_count": 0,
   "metadata": {
    "colab": {},
    "colab_type": "code",
    "id": "DL7n2QldwMYj"
   },
   "outputs": [],
   "source": [
    "y_pred = clf.predict(x_test)"
   ]
  },
  {
   "cell_type": "code",
   "execution_count": 30,
   "metadata": {
    "colab": {
     "base_uri": "https://localhost:8080/",
     "height": 34
    },
    "colab_type": "code",
    "executionInfo": {
     "elapsed": 133810,
     "status": "ok",
     "timestamp": 1591018268038,
     "user": {
      "displayName": "Tharindu Weerasinghe",
      "photoUrl": "",
      "userId": "18080768249403822947"
     },
     "user_tz": -330
    },
    "id": "N44rlnqAwMYn",
    "outputId": "ef16e9f5-dc96-42c2-e492-f6c649db5041"
   },
   "outputs": [
    {
     "data": {
      "text/plain": [
       "array([1, 1, 1, ..., 1, 1, 1])"
      ]
     },
     "execution_count": 30,
     "metadata": {
      "tags": []
     },
     "output_type": "execute_result"
    }
   ],
   "source": [
    "y_pred"
   ]
  },
  {
   "cell_type": "code",
   "execution_count": 31,
   "metadata": {
    "colab": {
     "base_uri": "https://localhost:8080/",
     "height": 34
    },
    "colab_type": "code",
    "executionInfo": {
     "elapsed": 133796,
     "status": "ok",
     "timestamp": 1591018268039,
     "user": {
      "displayName": "Tharindu Weerasinghe",
      "photoUrl": "",
      "userId": "18080768249403822947"
     },
     "user_tz": -330
    },
    "id": "cHl306JrwMYt",
    "outputId": "21a74040-34cb-43de-a9ad-b0983d88ec14"
   },
   "outputs": [
    {
     "data": {
      "text/plain": [
       "(8576,)"
      ]
     },
     "execution_count": 31,
     "metadata": {
      "tags": []
     },
     "output_type": "execute_result"
    }
   ],
   "source": [
    "y_pred.shape"
   ]
  },
  {
   "cell_type": "code",
   "execution_count": 32,
   "metadata": {
    "colab": {
     "base_uri": "https://localhost:8080/",
     "height": 34
    },
    "colab_type": "code",
    "executionInfo": {
     "elapsed": 133777,
     "status": "ok",
     "timestamp": 1591018268040,
     "user": {
      "displayName": "Tharindu Weerasinghe",
      "photoUrl": "",
      "userId": "18080768249403822947"
     },
     "user_tz": -330
    },
    "id": "RhgCHa0VwMYw",
    "outputId": "6516951f-f6eb-4820-9d0b-17a1b6c17c97"
   },
   "outputs": [
    {
     "data": {
      "text/plain": [
       "504"
      ]
     },
     "execution_count": 32,
     "metadata": {
      "tags": []
     },
     "output_type": "execute_result"
    }
   ],
   "source": [
    "np.count_nonzero(y_pred == 0)"
   ]
  },
  {
   "cell_type": "code",
   "execution_count": 0,
   "metadata": {
    "colab": {},
    "colab_type": "code",
    "id": "D8q4RWaFwMYz"
   },
   "outputs": [],
   "source": [
    "out = testing_data.filter(['tripid'], axis=1)"
   ]
  },
  {
   "cell_type": "code",
   "execution_count": 0,
   "metadata": {
    "colab": {},
    "colab_type": "code",
    "id": "geSSCegKwMY1"
   },
   "outputs": [],
   "source": [
    "out['prediction'] = y_pred"
   ]
  },
  {
   "cell_type": "code",
   "execution_count": 0,
   "metadata": {
    "colab": {},
    "colab_type": "code",
    "id": "7_rPEPwnwMY4"
   },
   "outputs": [],
   "source": [
    "out.to_csv('out.csv', index=False)"
   ]
  },
  {
   "cell_type": "code",
   "execution_count": 0,
   "metadata": {
    "colab": {},
    "colab_type": "code",
    "id": "mcg7m4v15YUT"
   },
   "outputs": [],
   "source": [
    "tr3 = training_data.drop(['pickup_time','drop_time'], axis = 1)"
   ]
  },
  {
   "cell_type": "code",
   "execution_count": 0,
   "metadata": {
    "colab": {},
    "colab_type": "code",
    "id": "mQifWvV-wMY-"
   },
   "outputs": [],
   "source": [
    "def latlong_to_dist(slat,slon,elat,elon):\n",
    "    return distance.distance((slat,slon),(elat,elon)).km"
   ]
  },
  {
   "cell_type": "code",
   "execution_count": 0,
   "metadata": {
    "colab": {},
    "colab_type": "code",
    "id": "byCZ2YpXwMZD"
   },
   "outputs": [],
   "source": [
    "tr['distance'] = np.vectorize(latlong_to_dist)(tr['pick_lat'],tr['pick_lon'],tr['drop_lat'],tr['drop_lon'])"
   ]
  },
  {
   "cell_type": "code",
   "execution_count": 0,
   "metadata": {
    "colab": {},
    "colab_type": "code",
    "id": "5UJY6CVw3Goq"
   },
   "outputs": [],
   "source": [
    "tr2['distance'] = np.vectorize(latlong_to_dist)(tr2['pick_lat'],tr2['pick_lon'],tr2['drop_lat'],tr2['drop_lon'])\n",
    "tr3['distance'] = np.vectorize(latlong_to_dist)(tr3['pick_lat'],tr3['pick_lon'],tr3['drop_lat'],tr3['drop_lon'])"
   ]
  },
  {
   "cell_type": "code",
   "execution_count": 0,
   "metadata": {
    "colab": {},
    "colab_type": "code",
    "id": "Khk6qUwewMZG"
   },
   "outputs": [],
   "source": [
    "testing_data['distance'] = np.vectorize(latlong_to_dist)(testing_data['pick_lat'],testing_data['pick_lon'],testing_data['drop_lat'],testing_data['drop_lon'])"
   ]
  },
  {
   "cell_type": "code",
   "execution_count": 0,
   "metadata": {
    "colab": {},
    "colab_type": "code",
    "id": "mCdHPpKV7l9D"
   },
   "outputs": [],
   "source": [
    "tr3 = tr3.drop(tr3.index[[920]])\n",
    "tr3 = tr3.reset_index(drop=True)"
   ]
  },
  {
   "cell_type": "code",
   "execution_count": 0,
   "metadata": {
    "colab": {},
    "colab_type": "code",
    "id": "x1p2akaIwMZM"
   },
   "outputs": [],
   "source": [
    "features = ['fare', 'additional_fare', 'distance', 'duration', 'meter_waiting', 'meter_waiting_fare', 'meter_waiting_till_pickup', 'pick_lat', 'pick_lon', 'drop_lat', 'drop_lon']\n",
    "x2_train = tr2[features]\n",
    "y2_train = tr2['label']\n",
    "\n",
    "x3_train = tr3[features]\n",
    "y3_train = tr3['label']\n",
    "\n",
    "x_test = testing_data[features]"
   ]
  },
  {
   "cell_type": "code",
   "execution_count": 0,
   "metadata": {
    "colab": {},
    "colab_type": "code",
    "id": "gN9Pcdi55m1E"
   },
   "outputs": [],
   "source": [
    "cb_clf = CatBoostClassifier(task_type='GPU')\n",
    "cb_clf2 = CatBoostClassifier(task_type='GPU')"
   ]
  },
  {
   "cell_type": "code",
   "execution_count": 0,
   "metadata": {
    "colab": {},
    "colab_type": "code",
    "id": "zNPwytzT6Pno"
   },
   "outputs": [],
   "source": [
    "cb_clf.fit(x2_train,y2_train)\n",
    "cb_clf2.fit(x3_train,y3_train)"
   ]
  },
  {
   "cell_type": "code",
   "execution_count": 0,
   "metadata": {
    "colab": {},
    "colab_type": "code",
    "id": "kjoXEa4wwMZS"
   },
   "outputs": [],
   "source": [
    "pred1 = cb_clf.predict(x_test)\n",
    "pred2 = cb_clf2.predict(x_test)"
   ]
  },
  {
   "cell_type": "code",
   "execution_count": 0,
   "metadata": {
    "colab": {},
    "colab_type": "code",
    "id": "i0e0L2NX87qB"
   },
   "outputs": [],
   "source": [
    "out = testing_data.filter(['tripid'], axis=1)"
   ]
  },
  {
   "cell_type": "code",
   "execution_count": 0,
   "metadata": {
    "colab": {},
    "colab_type": "code",
    "id": "q16ZV0CzwMZV"
   },
   "outputs": [],
   "source": [
    "out['prediction'] = pred1\n",
    "out.prediction.replace(('correct','incorrect'),(1,0),inplace=True)"
   ]
  },
  {
   "cell_type": "code",
   "execution_count": 0,
   "metadata": {
    "colab": {},
    "colab_type": "code",
    "id": "TS21FwXiwMZc"
   },
   "outputs": [],
   "source": [
    "out.to_csv(path+'out1.csv', index=False)"
   ]
  },
  {
   "cell_type": "code",
   "execution_count": 49,
   "metadata": {
    "colab": {
     "base_uri": "https://localhost:8080/",
     "height": 170
    },
    "colab_type": "code",
    "executionInfo": {
     "elapsed": 281641,
     "status": "ok",
     "timestamp": 1591018416033,
     "user": {
      "displayName": "Tharindu Weerasinghe",
      "photoUrl": "",
      "userId": "18080768249403822947"
     },
     "user_tz": -330
    },
    "id": "GNhUfmHewMZh",
    "outputId": "1eba6389-1222-4c58-d716-c2035dd15122"
   },
   "outputs": [
    {
     "data": {
      "text/plain": [
       "count    17175.000000\n",
       "mean         4.519694\n",
       "std          4.601594\n",
       "min          0.000000\n",
       "25%          1.482063\n",
       "50%          3.210580\n",
       "75%          6.142856\n",
       "max         79.217290\n",
       "Name: distance, dtype: float64"
      ]
     },
     "execution_count": 49,
     "metadata": {
      "tags": []
     },
     "output_type": "execute_result"
    }
   ],
   "source": [
    "tr2['distance'].describe()"
   ]
  },
  {
   "cell_type": "code",
   "execution_count": 0,
   "metadata": {
    "colab": {},
    "colab_type": "code",
    "id": "zEod6r6n_KIg"
   },
   "outputs": [],
   "source": [
    "tr2['avg_speed'] = tr2['distance'] / tr2['duration'] * 1000"
   ]
  },
  {
   "cell_type": "code",
   "execution_count": 0,
   "metadata": {
    "colab": {},
    "colab_type": "code",
    "id": "PsqG5U-zASLL"
   },
   "outputs": [],
   "source": [
    "testing_data['avg_speed'] = testing_data['distance'] / testing_data['duration'] * 1000"
   ]
  },
  {
   "cell_type": "code",
   "execution_count": 0,
   "metadata": {
    "colab": {},
    "colab_type": "code",
    "id": "iavBfUgeAbDM"
   },
   "outputs": [],
   "source": [
    "features = ['fare', 'avg_speed', 'additional_fare', 'distance', 'duration', 'meter_waiting', 'meter_waiting_fare', 'meter_waiting_till_pickup', 'pick_lat', 'pick_lon', 'drop_lat', 'drop_lon']\n",
    "x4_train = tr2[features]\n",
    "y4_train = tr2['label']\n",
    "\n",
    "x_test = testing_data[features]"
   ]
  },
  {
   "cell_type": "code",
   "execution_count": 0,
   "metadata": {
    "colab": {},
    "colab_type": "code",
    "id": "woADZtU9AnQo"
   },
   "outputs": [],
   "source": [
    "cb_clf.fit(x4_train,y4_train)"
   ]
  },
  {
   "cell_type": "code",
   "execution_count": 0,
   "metadata": {
    "colab": {},
    "colab_type": "code",
    "id": "KXISKKpMAyRe"
   },
   "outputs": [],
   "source": [
    "pred3 = cb_clf.predict(x_test)"
   ]
  },
  {
   "cell_type": "code",
   "execution_count": 0,
   "metadata": {
    "colab": {},
    "colab_type": "code",
    "id": "FyglSyAZBLTb"
   },
   "outputs": [],
   "source": [
    "out = testing_data.filter(['tripid'], axis=1)\n",
    "out['prediction'] = pred3\n",
    "out.prediction.replace(('correct','incorrect'),(1,0),inplace=True)\n",
    "out.to_csv(path+'out3.csv', index=False)"
   ]
  },
  {
   "cell_type": "code",
   "execution_count": 0,
   "metadata": {
    "colab": {},
    "colab_type": "code",
    "id": "rlumoio9BaWq"
   },
   "outputs": [],
   "source": []
  }
 ],
 "metadata": {
  "accelerator": "GPU",
  "colab": {
   "name": "ml_challenge.ipynb",
   "provenance": []
  },
  "kernelspec": {
   "display_name": "Python 3",
   "language": "python",
   "name": "python3"
  },
  "language_info": {
   "codemirror_mode": {
    "name": "ipython",
    "version": 3
   },
   "file_extension": ".py",
   "mimetype": "text/x-python",
   "name": "python",
   "nbconvert_exporter": "python",
   "pygments_lexer": "ipython3",
   "version": "3.7.7"
  }
 },
 "nbformat": 4,
 "nbformat_minor": 1
}
